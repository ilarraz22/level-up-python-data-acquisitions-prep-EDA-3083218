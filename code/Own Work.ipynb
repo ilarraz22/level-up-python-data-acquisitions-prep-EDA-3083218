{
 "cells": [
  {
   "cell_type": "markdown",
   "metadata": {},
   "source": [
    "## Libraries"
   ]
  },
  {
   "cell_type": "code",
   "execution_count": 1,
   "metadata": {},
   "outputs": [],
   "source": [
    "import pandas as pd\n",
    "\n",
    "from bs4 import BeautifulSoup\n",
    "import requests"
   ]
  },
  {
   "cell_type": "markdown",
   "metadata": {},
   "source": [
    "## Ch1: Data Acquisition"
   ]
  },
  {
   "cell_type": "markdown",
   "metadata": {},
   "source": [
    "### 1.1 Scraping tables"
   ]
  },
  {
   "cell_type": "markdown",
   "metadata": {},
   "source": [
    "#### Your answer:"
   ]
  },
  {
   "cell_type": "code",
   "execution_count": 13,
   "metadata": {},
   "outputs": [
    {
     "data": {
      "text/html": [
       "<div>\n",
       "<style scoped>\n",
       "    .dataframe tbody tr th:only-of-type {\n",
       "        vertical-align: middle;\n",
       "    }\n",
       "\n",
       "    .dataframe tbody tr th {\n",
       "        vertical-align: top;\n",
       "    }\n",
       "\n",
       "    .dataframe thead th {\n",
       "        text-align: right;\n",
       "    }\n",
       "</style>\n",
       "<table border=\"1\" class=\"dataframe\">\n",
       "  <thead>\n",
       "    <tr style=\"text-align: right;\">\n",
       "      <th></th>\n",
       "      <th>Rank</th>\n",
       "      <th>State</th>\n",
       "      <th>Total Area in Sq Mi</th>\n",
       "    </tr>\n",
       "  </thead>\n",
       "  <tbody>\n",
       "    <tr>\n",
       "      <th>0</th>\n",
       "      <td>1</td>\n",
       "      <td>Alaska</td>\n",
       "      <td>665000</td>\n",
       "    </tr>\n",
       "    <tr>\n",
       "      <th>1</th>\n",
       "      <td>2</td>\n",
       "      <td>Texas</td>\n",
       "      <td>268000</td>\n",
       "    </tr>\n",
       "    <tr>\n",
       "      <th>2</th>\n",
       "      <td>3</td>\n",
       "      <td>California</td>\n",
       "      <td>163000</td>\n",
       "    </tr>\n",
       "    <tr>\n",
       "      <th>3</th>\n",
       "      <td>4</td>\n",
       "      <td>Montana</td>\n",
       "      <td>147000</td>\n",
       "    </tr>\n",
       "    <tr>\n",
       "      <th>4</th>\n",
       "      <td>5</td>\n",
       "      <td>New Mexico</td>\n",
       "      <td>121000</td>\n",
       "    </tr>\n",
       "    <tr>\n",
       "      <th>5</th>\n",
       "      <td>6</td>\n",
       "      <td>Arizona</td>\n",
       "      <td>113000</td>\n",
       "    </tr>\n",
       "  </tbody>\n",
       "</table>\n",
       "</div>"
      ],
      "text/plain": [
       "   Rank       State  Total Area in Sq Mi\n",
       "0     1      Alaska               665000\n",
       "1     2       Texas               268000\n",
       "2     3  California               163000\n",
       "3     4     Montana               147000\n",
       "4     5  New Mexico               121000\n",
       "5     6     Arizona               113000"
      ]
     },
     "execution_count": 13,
     "metadata": {},
     "output_type": "execute_result"
    }
   ],
   "source": [
    "link = 'https://3083218.youcanlearnit.net/geographytables.html'\n",
    "\n",
    "df = pd.read_html(link)\n",
    "\n",
    "pd.DataFrame(df[2])"
   ]
  },
  {
   "cell_type": "markdown",
   "metadata": {},
   "source": [
    "#### Answer: "
   ]
  },
  {
   "cell_type": "code",
   "execution_count": 12,
   "metadata": {},
   "outputs": [
    {
     "data": {
      "text/html": [
       "<div>\n",
       "<style scoped>\n",
       "    .dataframe tbody tr th:only-of-type {\n",
       "        vertical-align: middle;\n",
       "    }\n",
       "\n",
       "    .dataframe tbody tr th {\n",
       "        vertical-align: top;\n",
       "    }\n",
       "\n",
       "    .dataframe thead th {\n",
       "        text-align: right;\n",
       "    }\n",
       "</style>\n",
       "<table border=\"1\" class=\"dataframe\">\n",
       "  <thead>\n",
       "    <tr style=\"text-align: right;\">\n",
       "      <th></th>\n",
       "      <th>Rank</th>\n",
       "      <th>State</th>\n",
       "      <th>Total Area in Sq Mi</th>\n",
       "    </tr>\n",
       "  </thead>\n",
       "  <tbody>\n",
       "    <tr>\n",
       "      <th>0</th>\n",
       "      <td>1</td>\n",
       "      <td>Alaska</td>\n",
       "      <td>665000</td>\n",
       "    </tr>\n",
       "    <tr>\n",
       "      <th>1</th>\n",
       "      <td>2</td>\n",
       "      <td>Texas</td>\n",
       "      <td>268000</td>\n",
       "    </tr>\n",
       "    <tr>\n",
       "      <th>2</th>\n",
       "      <td>3</td>\n",
       "      <td>California</td>\n",
       "      <td>163000</td>\n",
       "    </tr>\n",
       "    <tr>\n",
       "      <th>3</th>\n",
       "      <td>4</td>\n",
       "      <td>Montana</td>\n",
       "      <td>147000</td>\n",
       "    </tr>\n",
       "    <tr>\n",
       "      <th>4</th>\n",
       "      <td>5</td>\n",
       "      <td>New Mexico</td>\n",
       "      <td>121000</td>\n",
       "    </tr>\n",
       "    <tr>\n",
       "      <th>5</th>\n",
       "      <td>6</td>\n",
       "      <td>Arizona</td>\n",
       "      <td>113000</td>\n",
       "    </tr>\n",
       "  </tbody>\n",
       "</table>\n",
       "</div>"
      ],
      "text/plain": [
       "   Rank       State  Total Area in Sq Mi\n",
       "0     1      Alaska               665000\n",
       "1     2       Texas               268000\n",
       "2     3  California               163000\n",
       "3     4     Montana               147000\n",
       "4     5  New Mexico               121000\n",
       "5     6     Arizona               113000"
      ]
     },
     "execution_count": 12,
     "metadata": {},
     "output_type": "execute_result"
    }
   ],
   "source": [
    "table_link = \"https://3083218.youcanlearnit.net/geographytables.html\"\n",
    "\n",
    "area_data = pd.read_html(table_link, match = \"Area\")\n",
    "\n",
    "area_data = area_data.pop()\n",
    "\n",
    "area_data"
   ]
  },
  {
   "cell_type": "markdown",
   "metadata": {},
   "source": [
    "### 1.2 Finding CSS Selectors"
   ]
  },
  {
   "cell_type": "code",
   "execution_count": null,
   "metadata": {},
   "outputs": [],
   "source": [
    "from bs4 import BeautifulSoup\n",
    "import pandas as pd\n",
    "import requests\n",
    "\n",
    "otlink = \"https://hplussport.net/#people\"\n",
    "\n",
    "pgread = requests.get(otlink)\n",
    "\n",
    "soup = BeautifulSoup(page_read.content)\n",
    "\n",
    "board_names = soup.select(\".card-name\")\n",
    "len(board_names)\n",
    "board_roles = soup.select(\".card_title\")\n",
    "len(board_roles)\n",
    "\n",
    "\n",
    "results = []\n",
    "\n",
    "for i in range(len(board_roles)):\n",
    "  person_name = board_names[i].text\n",
    "  person_role = board_roles[i].text\n",
    "  result_df = pd.DataFrame(\n",
    "    data = [[person_name, person_role]], \n",
    "    columns = ['Name', 'Role'])\n",
    "  results.append(result_df)\n",
    "  \n",
    "results = pd.concat(results)\n"
   ]
  },
  {
   "cell_type": "markdown",
   "metadata": {},
   "source": [
    "### 1.3 Scraping text"
   ]
  },
  {
   "cell_type": "code",
   "execution_count": null,
   "metadata": {},
   "outputs": [],
   "source": [
    "from bs4 import BeautifulSoup\n",
    "import pandas as pd\n",
    "import requests\n",
    "\n",
    "\n",
    "link = \"https://3083218.youcanlearnit.net/rainieststate.html\"\n",
    "\n",
    "page_read = requests.get(link)\n",
    "\n",
    "soup = BeautifulSoup(page_read.content)\n",
    "\n",
    "state_result = soup.select_one(\"p:last-of-type\").string\n",
    "\n",
    "state_result = state_result.strip()\n",
    "\n",
    "state_data = {0: ['State'], 1: [state_result]} \n",
    "\n",
    "state_data = pd.DataFrame(state_data)\n",
    "\n",
    "table = pd.read_html(link, match = \"Capital\")\n",
    "\n",
    "table = table.pop()\n",
    "\n",
    "table = table.append(state_data)\n",
    "\n",
    "table = table.rename(columns={0: \"info\", 1: \"stat\"})\n",
    "\n",
    "table = table.pivot(columns = \"info\", values = \"stat\")\n",
    "\n",
    "table_fill = table.bfill()\n",
    "\n",
    "table_fill.drop(range(1, len(table_fill)))"
   ]
  },
  {
   "cell_type": "markdown",
   "metadata": {},
   "source": [
    "### 1.4 Finding APIs"
   ]
  },
  {
   "cell_type": "code",
   "execution_count": null,
   "metadata": {},
   "outputs": [],
   "source": [
    "import pandas as pd\n",
    "import requests\n",
    "\n",
    "link = \"https://3083218.youcanlearnit.net/dataTable.html\"\n",
    "\n",
    "response = requests.get(\"https://3083218.youcanlearnit.net/rank.json?_=1662342121475\")\n",
    "\n",
    "state_data = pd.read_json(response.content)\n",
    "\n",
    "state_data = pd.DataFrame(state_data['data'].to_list(), columns = ['rank', 'state', 'rainfall'])\n"
   ]
  },
  {
   "cell_type": "markdown",
   "metadata": {},
   "source": [
    "### 1.5 Getting JSON into Pandas"
   ]
  },
  {
   "cell_type": "code",
   "execution_count": null,
   "metadata": {},
   "outputs": [],
   "source": [
    "import pandas as pd\n",
    "import requests\n",
    "\n",
    "base_link = 'https://pixelford.com/api/image/id/'\n",
    "\n",
    "pixelford_list = []\n",
    "\n",
    "for i in range(20):\n",
    "    individual_link = base_link + str(i)\n",
    "    initial_request = requests.get(individual_link)\n",
    "    json_results = initial_request.content\n",
    "    pixelford_list.append(pd.read_json(json_results))\n",
    "\n",
    "pixelford_list = pd.concat(pixelford_list)"
   ]
  },
  {
   "cell_type": "markdown",
   "metadata": {},
   "source": [
    "## Ch2: Data Prep"
   ]
  },
  {
   "cell_type": "markdown",
   "metadata": {},
   "source": [
    "### 2.1 Constructing regular expressions"
   ]
  },
  {
   "cell_type": "code",
   "execution_count": 15,
   "metadata": {},
   "outputs": [],
   "source": [
    "import pandas as pd\n",
    "\n",
    "dollar_values = {'dollar_values': ['$10.00', '$1,00', '$10', '$10.01', '$1,000.01']} \n",
    "\n",
    "dollar_data = pd.DataFrame(dollar_values)\n",
    "\n",
    "dollar_data['dollar_values'] = dollar_data['dollar_values'].str.replace('\\\\$', '')\n",
    "\n",
    "dollar_data['dollar_values'] = dollar_data['dollar_values'].str.replace(',(?=[0-9]{2}$)', '')\n",
    "\n",
    "dollar_data['dollar_values'] = dollar_data['dollar_values'].str.replace(',', '')\n",
    "\n",
    "#dollar_data['dollar_values'] = dollar_data['dollar_values'].astype(float)\n",
    "\n",
    "#dollar_data['dollar_values'].mean()\n"
   ]
  },
  {
   "cell_type": "markdown",
   "metadata": {},
   "source": [
    "### 2.2 Cleaning text"
   ]
  },
  {
   "cell_type": "markdown",
   "metadata": {},
   "source": [
    "### 2.3 Selecting Variables"
   ]
  },
  {
   "cell_type": "markdown",
   "metadata": {},
   "source": [
    "### 2.4 Scaling Variables"
   ]
  },
  {
   "cell_type": "markdown",
   "metadata": {},
   "source": [
    "### 2.5 Reducing Dimensionality"
   ]
  },
  {
   "cell_type": "markdown",
   "metadata": {},
   "source": [
    "## Ch3: EDA"
   ]
  },
  {
   "cell_type": "markdown",
   "metadata": {},
   "source": [
    "### 3.1 Describing Data"
   ]
  },
  {
   "cell_type": "markdown",
   "metadata": {},
   "source": [
    "### 3.2 Finding Correlations"
   ]
  },
  {
   "cell_type": "markdown",
   "metadata": {},
   "source": [
    "### 3.3 Visualizing Correlations"
   ]
  },
  {
   "cell_type": "markdown",
   "metadata": {},
   "source": [
    "### 3.4 Multivariable visualizations"
   ]
  }
 ],
 "metadata": {
  "kernelspec": {
   "display_name": "Python 3",
   "language": "python",
   "name": "python3"
  },
  "language_info": {
   "codemirror_mode": {
    "name": "ipython",
    "version": 3
   },
   "file_extension": ".py",
   "mimetype": "text/x-python",
   "name": "python",
   "nbconvert_exporter": "python",
   "pygments_lexer": "ipython3",
   "version": "3.10.12"
  }
 },
 "nbformat": 4,
 "nbformat_minor": 2
}
